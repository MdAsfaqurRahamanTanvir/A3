{
 "cells": [
  {
   "cell_type": "markdown",
   "metadata": {},
   "source": [
    "# Task one"
   ]
  },
  {
   "cell_type": "code",
   "execution_count": 6,
   "metadata": {},
   "outputs": [
    {
     "name": "stdout",
     "output_type": "stream",
     "text": [
      "Enter Your Number: 4\n",
      "Enter value: 1\n",
      "Enter value: 2\n",
      "Enter value: 3\n",
      "Enter value: 4\n",
      "Array is:  [1, 2, 3, 4]\n"
     ]
    }
   ],
   "source": [
    "n = int(input(\"Enter Your Number: \"))\n",
    "b = list()\n",
    "\n",
    "for i in range(0,n):\n",
    "    c = int(input(\"Enter value: \"))\n",
    "    b.append(c)\n",
    "\n",
    "print(\"Array is: \", b)"
   ]
  },
  {
   "cell_type": "markdown",
   "metadata": {},
   "source": [
    "# Task Two"
   ]
  },
  {
   "cell_type": "code",
   "execution_count": 7,
   "metadata": {},
   "outputs": [
    {
     "name": "stdout",
     "output_type": "stream",
     "text": [
      "Enter Your Array size: 4\n",
      "Enter Your Value: 1\n",
      "Enter Your Value: 2\n",
      "Enter Your Value: 3\n",
      "Enter Your Value: 4\n",
      "Your Reverse array is:  [4, 3, 2, 1]\n"
     ]
    }
   ],
   "source": [
    "n = int(input(\"Enter Your Array size: \"))\n",
    "array = list()\n",
    "for i in range(0,n):\n",
    "    b = int(input(\"Enter Your Value: \"))\n",
    "    array.append(b)\n",
    "array.reverse()\n",
    "print(\"Your Reverse array is: \", array)"
   ]
  },
  {
   "cell_type": "markdown",
   "metadata": {},
   "source": [
    "# Task Three"
   ]
  },
  {
   "cell_type": "code",
   "execution_count": 9,
   "metadata": {},
   "outputs": [
    {
     "name": "stdout",
     "output_type": "stream",
     "text": [
      "Enter Your Array size: 4\n",
      "ENter value: 10\n",
      "ENter value: 2\n",
      "ENter value: 18\n",
      "ENter value: 12\n",
      "Greater than 10:  3\n"
     ]
    }
   ],
   "source": [
    "n = int(input(\"Enter Your Array size: \"))\n",
    "count=0\n",
    "array = list()\n",
    "for i in range(0,n):\n",
    "    b=int(input(\"ENter value: \"))\n",
    "    array.append(b)\n",
    "    \n",
    "for j in range(0,len(array)):\n",
    "    if(array[j]>=10):\n",
    "        count +=1\n",
    "print(\"Greater than 10: \", count)"
   ]
  },
  {
   "cell_type": "markdown",
   "metadata": {},
   "source": [
    "# Task four"
   ]
  },
  {
   "cell_type": "code",
   "execution_count": 13,
   "metadata": {},
   "outputs": [
    {
     "name": "stdout",
     "output_type": "stream",
     "text": [
      "Enter Your Array size: 4\n",
      "ENter value: 70\n",
      "ENter value: 7\n",
      "ENter value: 50\n",
      "ENter value: 5\n",
      "Greater than 10 array:  [7, 5]\n"
     ]
    }
   ],
   "source": [
    "n = int(input(\"Enter Your Array size: \"))\n",
    "less_array=list()\n",
    "array = list()\n",
    "for i in range(0,n):\n",
    "    b=int(input(\"ENter value: \"))\n",
    "    array.append(b)\n",
    "    \n",
    "for j in range(0,len(array)):\n",
    "    if(array[j]<=10):\n",
    "        less_array.append(array[j])\n",
    "print(\"Greater than 10 array: \", less_array)"
   ]
  },
  {
   "cell_type": "markdown",
   "metadata": {},
   "source": [
    "# Five"
   ]
  },
  {
   "cell_type": "code",
   "execution_count": 8,
   "metadata": {},
   "outputs": [
    {
     "name": "stdout",
     "output_type": "stream",
     "text": [
      "Enter Your Array size: 3\n",
      "ENter value: 1\n",
      "ENter value: 2\n",
      "ENter value: 3\n",
      "Enter your search value: 4\n",
      "Not found\n"
     ]
    }
   ],
   "source": [
    "\n",
    "def search(n):\n",
    "    \n",
    "        array = list()\n",
    "        for i in range(0,n):\n",
    "            b=int(input(\"ENter value: \"))\n",
    "            array.append(b)\n",
    "        src=int(input(\"Enter your search value: \"))\n",
    "        for j in range(0,len(array)):\n",
    "            if(array[j]==src):\n",
    "                print(\"FOund..Location :\", j)\n",
    "                return 0;\n",
    "\n",
    "        print(\"Not found\")\n",
    "n = int(input(\"Enter Your Array size: \"))\n",
    "search(n)"
   ]
  },
  {
   "cell_type": "markdown",
   "metadata": {},
   "source": [
    "# Task Six"
   ]
  },
  {
   "cell_type": "code",
   "execution_count": 14,
   "metadata": {},
   "outputs": [
    {
     "name": "stdout",
     "output_type": "stream",
     "text": [
      "Enter Your Array size: 4\n",
      "Enter Value: -2\n",
      "Enter Value: 5\n",
      "Enter Value: 98\n",
      "Enter Value: 100\n",
      "Largest is:  100 Location is  4\n",
      "Smallest is:  -2 Location is:  1\n"
     ]
    }
   ],
   "source": [
    "n = int(input(\"Enter Your Array size: \"))\n",
    "a=list()\n",
    "count=1\n",
    "count2=1\n",
    "for i in range(0,n):\n",
    "    array = int(input(\"Enter Value: \"))\n",
    "    a.append(array)\n",
    "\n",
    "max = a[0]\n",
    "min= a[0]\n",
    "for j in range(0,len(a)):\n",
    "    if(a[j]>max):\n",
    "        count+=1\n",
    "        max=a[j]\n",
    "    if(a[j]<min):\n",
    "        count2+=1\n",
    "        min=a[j]\n",
    "print(\"Largest is: \", max,\"Location is \", count)\n",
    "print(\"Smallest is: \", min,\"Location is: \", count2)"
   ]
  },
  {
   "cell_type": "markdown",
   "metadata": {},
   "source": [
    "# Task Seven"
   ]
  },
  {
   "cell_type": "code",
   "execution_count": 17,
   "metadata": {},
   "outputs": [
    {
     "name": "stdout",
     "output_type": "stream",
     "text": [
      "Enter Your Array size: 4\n",
      "Enter Value: 2\n",
      "Enter Value: 3\n",
      "Enter Value: 5\n",
      "Enter Value: 2\n",
      "[5, 3, 2, 2]\n"
     ]
    }
   ],
   "source": [
    "n = int(input(\"Enter Your Array size: \"))\n",
    "a=list()\n",
    "count=1\n",
    "count2=1\n",
    "for i in range(0,n):\n",
    "    array = int(input(\"Enter Value: \"))\n",
    "    a.append(array)\n",
    "a.sort(reverse=True)\n",
    "print(a)"
   ]
  },
  {
   "cell_type": "markdown",
   "metadata": {},
   "source": [
    "# Factorial"
   ]
  },
  {
   "cell_type": "code",
   "execution_count": 19,
   "metadata": {},
   "outputs": [
    {
     "name": "stdout",
     "output_type": "stream",
     "text": [
      "Enter Your Number: 5\n",
      "120\n"
     ]
    }
   ],
   "source": [
    "num = int(input(\"Enter Your Number: \"))\n",
    "facto=1\n",
    "if (num==0):\n",
    "    print(\"Enter posistive number: \")\n",
    "if(num ==1):\n",
    "    print(1)\n",
    "for i in range(1,num+1):\n",
    "    facto = facto*i\n",
    "print(facto)"
   ]
  },
  {
   "cell_type": "markdown",
   "metadata": {},
   "source": [
    "# Fibonacci"
   ]
  },
  {
   "cell_type": "code",
   "execution_count": 22,
   "metadata": {},
   "outputs": [
    {
     "name": "stdout",
     "output_type": "stream",
     "text": [
      "Enter Your Number: 10\n",
      "0 1 1 2 3 5 8 13 21 34 55 "
     ]
    }
   ],
   "source": [
    "num = int(input(\"Enter Your Number: \"))\n",
    "n1=0\n",
    "n2=1\n",
    "count=0\n",
    "\n",
    "if(num<=0):\n",
    "    print(\"Enter positive number: \")\n",
    "elif(num==1):\n",
    "    print(n1)\n",
    "else:\n",
    "    while(count<=num):\n",
    "        print(n1,end=\" \")\n",
    "        nth=n1+n2\n",
    "        n1=n2\n",
    "        n2=nth\n",
    "        count+=1"
   ]
  },
  {
   "cell_type": "code",
   "execution_count": null,
   "metadata": {},
   "outputs": [],
   "source": []
  }
 ],
 "metadata": {
  "kernelspec": {
   "display_name": "Python 3",
   "language": "python",
   "name": "python3"
  }
 },
 "nbformat": 4,
 "nbformat_minor": 2
}
